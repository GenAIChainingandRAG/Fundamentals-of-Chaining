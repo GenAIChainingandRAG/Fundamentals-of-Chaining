{
 "cells": [
  {
   "cell_type": "markdown",
   "id": "51634aa0",
   "metadata": {},
   "source": [
    "![Intro to LangChain](../assets/introduction-to-langchain.png)\n",
    "---\n"
   ]
  },
  {
   "cell_type": "markdown",
   "id": "cff2e374",
   "metadata": {},
   "source": [
    "### Learning objective:\n",
    "By the end of this lesson, students will be able to import and call a chat model in LangChain and create a basic chain using prompt templates. \n",
    "\n",
    "### About:  \n",
    "This is an introduction to LangChain and a demo of core functionality \n",
    "\n",
    "### Prerequisites:\n",
    "- Python (required) \n",
    "- Visual Studio Code (recommended)\n",
    "- GitHub Copilot lessons (recommended) "
   ]
  },
  {
   "cell_type": "markdown",
   "id": "faeb7aa5",
   "metadata": {},
   "source": [
    "### Contents\n",
    "1. [Importing Open AI and LangChain](#imports)\n",
    "1. [Basic Model calls](#basic)\n",
    "1. [Intro to LangChain](#lang-chain)\n",
    "1. [Basic chain](#basic-chain)\n",
    "1. [Prompt Templates](#prompt-templates)\n",
    "1. [LangChain Expression Language (LCEL)](#lcel)\n",
    "\n",
    "\n",
    "\n",
    "\n",
    "### Activities\n",
    "1. [Try it! 1](#act-1)\n",
    "1. [Try it! 2](#act-2)\n",
    "1. [Try it! 3](#act-3)\n",
    "1. [Lab](#lab)\n",
    "\n",
    "\n",
    "### References\n",
    "1. [LangChain Intro](https://python.langchain.com/docs/expression_language/get_started)\n",
    "1. [LangChain LCEL](https://python.langchain.com/docs/expression_language/)\n",
    "1. [LangChain Interface](https://python.langchain.com/docs/expression_language/interface)\n",
    "\n",
    "\n",
    "\n"
   ]
  },
  {
   "cell_type": "markdown",
   "id": "75bb5694",
   "metadata": {},
   "source": [
    "<a id='imports'></a>\n",
    "## Imports"
   ]
  },
  {
   "cell_type": "code",
   "execution_count": 1,
   "id": "be060d02",
   "metadata": {},
   "outputs": [],
   "source": [
    "from langchain_openai import ChatOpenAI #openai chatbot\n",
    "from langchain_core.prompts import ChatPromptTemplate #template for chat prompts\n",
    "from langchain_core.output_parsers import StrOutputParser #output parser for string output "
   ]
  },
  {
   "cell_type": "markdown",
   "id": "c2eabefc",
   "metadata": {},
   "source": [
    "<a id='basic'></a>\n",
    "## Basic Model Calls \n",
    "Let's dive right in and see the our tools in action. Afterward we will walk through each component to see how it works. \n",
    "\n",
    "**Steps:**\n",
    "1. Specify model (here we will ChatGPT) \n",
    "1. Invoke the model on a prompt\n"
   ]
  },
  {
   "cell_type": "code",
   "execution_count": 2,
   "id": "3f6a1301",
   "metadata": {},
   "outputs": [],
   "source": [
    "#1. specify your model. \n",
    "llm = ChatOpenAI(openai_api_key=\"...\", \n",
    "                 temperature=.5, model_name=\"gpt-4-0125-preview\")"
   ]
  },
  {
   "cell_type": "code",
   "execution_count": 3,
   "id": "90c40bbc",
   "metadata": {},
   "outputs": [
    {
     "data": {
      "text/plain": [
       "AIMessage(content=\"Two famous tourist spots globally are:\\n\\n1. **The Eiffel Tower in Paris, France** - An iconic symbol of France, the Eiffel Tower is one of the most recognizable structures in the world. It was constructed for the 1889 Exposition Universelle (World's Fair) held to celebrate the 100th anniversary of the French Revolution. Visitors can ascend the tower to enjoy breathtaking views of Paris.\\n\\n2. **The Grand Canyon in Arizona, USA** - Known for its overwhelming size and its intricate and colorful landscape, the Grand Canyon is a steep-sided canyon carved by the Colorado River. It is a UNESCO World Heritage site and is considered one of the Seven Natural Wonders of the World. It offers spectacular vistas, hiking trails, and rafting opportunities.\", response_metadata={'token_usage': {'completion_tokens': 157, 'prompt_tokens': 15, 'total_tokens': 172}, 'model_name': 'gpt-4-0125-preview', 'system_fingerprint': 'fp_166a8e22c6', 'finish_reason': 'stop', 'logprobs': None})"
      ]
     },
     "execution_count": 3,
     "metadata": {},
     "output_type": "execute_result"
    }
   ],
   "source": [
    "#2. invoke the model on a prompt\n",
    "llm.invoke(\"Where are 2 famous tourist spots?\")"
   ]
  },
  {
   "cell_type": "markdown",
   "id": "f7532764",
   "metadata": {},
   "source": [
    "<a id='act-1'></a>\n",
    "### Try it! \n",
    "Invoke the model with a prompt of your choice. Share your results with the class. \n",
    "\n",
    "**Sample code:**\n",
    "```python\n",
    "llm.invoke(\"insert your prompt here!\")\n",
    "```"
   ]
  },
  {
   "cell_type": "code",
   "execution_count": 4,
   "id": "514eee2c",
   "metadata": {},
   "outputs": [
    {
     "data": {
      "text/plain": [
       "AIMessage(content=\"Writing effective prompts, whether for creative writing, educational exercises, or artificial intelligence (AI) interactions, requires clarity, focus, and engagement. Here are several tips to help you craft better prompts:\\n\\n### 1. **Be Clear and Specific**\\n- **Avoid Ambiguity**: Ensure your prompt clearly communicates what you want. Ambiguity can lead to misunderstandings or irrelevant responses.\\n- **Provide Context**: A little background can help orient the response and make it more relevant.\\n\\n### 2. **Engage the Audience**\\n- **Use Interesting Hooks**: Start with an intriguing question, a surprising fact, or a compelling statement to grab attention.\\n- **Know Your Audience**: Tailor your language, complexity, and content to fit the interests and understanding of your target audience.\\n\\n### 3. **Encourage Creativity and Critical Thinking**\\n- **Open-Ended Questions**: Instead of yes/no questions, ask open-ended ones that encourage deeper thought and original responses.\\n- **Challenge Assumptions**: Prompts that challenge preconceived notions can stimulate more thoughtful engagement.\\n\\n### 4. **Provide Structure, But Allow Freedom**\\n- **Guidelines vs. Constraints**: Offer enough guidance to prevent confusion but avoid overly restrictive instructions that could stifle creativity.\\n- **Suggest, Don’t Dictate**: Encourage exploration of different perspectives or solutions rather than implying there’s a single correct answer.\\n\\n### 5. **Use Active Voice**\\n- **Direct and Dynamic**: Active voice makes your prompts more engaging and easier to follow than the passive voice.\\n\\n### 6. **Iterate and Refine**\\n- **Feedback Loop**: Use responses to refine and adjust your prompts. What worked? What didn’t? Continuous improvement is key.\\n- **Test Your Prompts**: If possible, test your prompts on a small scale to see how they perform and make adjustments as needed.\\n\\n### 7. **Consider Timing and Sequencing**\\n- **Progressive Complexity**: Start with simpler prompts and gradually increase complexity to build confidence and engagement.\\n- **Timing**: Be mindful of when the prompt is presented. Timing can affect the willingness and ability to engage thoughtfully.\\n\\n### 8. **Incorporate Multimedia**\\n- **Visuals and Audio**: Sometimes, a picture or sound clip can inspire more than words alone. Consider incorporating multimedia elements to enrich the prompt.\\n\\n### 9. **Be Open to Surprise**\\n- **Embrace Unexpected Responses**: Sometimes, the most off-the-wall responses can be the most insightful or creative. Don't dismiss them outright.\\n\\n### 10. **Practice Empathy**\\n- **Consider Perspectives**: Try to imagine how different people might interpret or respond to your prompt. This can help make your prompts more inclusive and engaging.\\n\\nBy applying these tips, you can craft prompts that are not only clear and engaging but also stimulate creativity, critical thinking, and meaningful responses. Whether for educational purposes, creative exercises, or AI interactions, effective prompts are the foundation for productive and enjoyable engagement.\", response_metadata={'token_usage': {'completion_tokens': 601, 'prompt_tokens': 15, 'total_tokens': 616}, 'model_name': 'gpt-4-0125-preview', 'system_fingerprint': 'fp_a7daf7c51e', 'finish_reason': 'stop', 'logprobs': None})"
      ]
     },
     "execution_count": 4,
     "metadata": {},
     "output_type": "execute_result"
    }
   ],
   "source": [
    "llm.invoke(\"What are tips for writing better prompts?\")"
   ]
  },
  {
   "cell_type": "markdown",
   "id": "b993292e",
   "metadata": {},
   "source": [
    "<a id='lang-chain'></a>\n",
    "## Intro to LangChain\n",
    "---\n",
    "\n",
    "LangChain makes it possible to create common chains of AI tasks with a lot less code. With chains, code becomes more modular so it is easier to test, swap components (such as models or output formats), edit and automate. This becomes very important as you work to move your models to production. \n",
    "\n",
    "#### Example chain: Model | Prompt | Output Parser \n",
    "\n",
    "\n",
    "### Key components \n",
    "####  Models- the AI model being used \n",
    "1. **LLMs** - such as GPT-4 typically take strings\n",
    "1. **ChatModels** - takes roles and messages they are built on top of LLMs but offer additional functionality.  *Note: We will focus on the Chat Models implementation in our labs* \n",
    "    1. **Chat Model Messages** - chat messages by different roles \n",
    "            - Basic Roles:\n",
    "                - Human Message\n",
    "                - AI message\n",
    "            - Advanced roles (not supported by all models) \n",
    "                - System Message\n",
    "                - Function Message \n",
    "                - Tool Message\n",
    "                \n",
    "#### Prompts- inputs to the language model \n",
    "- Often user message is modified in some way before being passed as prompt to the language model \n",
    "- Prompt templates- take a string, format it in some way, and pass it to the language model \n",
    "\n",
    "#### Output Parsers- way to format output returned from model\n",
    "- StrOutputParser -formats messages as strings\n",
    "- Agent Parsers- more to come on this in agent module \n",
    "\n",
    "#### Basic chains\n",
    "- 2 components (simplest  chain) : Model | Prompt  \n",
    "- 3 component chain (very common chain): Model | Prompt | Output Parser \n",
    "\n",
    "---\n"
   ]
  },
  {
   "cell_type": "markdown",
   "id": "e46b7eae",
   "metadata": {},
   "source": [
    "<a id='basic-chain'></a>\n",
    "## Create a basic chain using chat prompt template \n",
    "\n",
    "1. Create a prompt template \n",
    "Let's create a prompt template to generate techical documentation based on user input. Notice that we set the system persona to \"You are world class travel writer\" \n",
    "\n",
    "    ```python \n",
    "    ChatPromptTemplate.from_messages([\n",
    "        (\"system\", \"You are world class travel writer.\"), #system persona is set \n",
    "        (\"user\", \"{input}\") #user input is set, here we will pass it an input variable \n",
    "    ])\n",
    "    ```\n",
    "\n",
    "2. Specify your chain \n",
    "Here we will create a simple chain with the prompt template and our chat model \n",
    "    ```python\n",
    "    chain = prompt | llm \n",
    "    ```\n",
    "3. Finally you can invoke your chain with a prompt of your choice \n",
    "    ```python\n",
    "       chain.invoke({\"input\": \"Where are 2 famous tourist spots?\"})\n",
    "    ```\n",
    "    \n",
    "    \n",
    "#### Note:\n",
    "There are two common options for your templates. We will experiment with both in this lab. \n",
    "\n",
    "1. ``` ChatPromptTemplate.from_messages()```  is a chat template that includes both a system and user. In these you can specify the system persona. Play around with these try changing \"You are world class technical documentation writer\" to a \"helpful pirate\". \n",
    "1. ``` ChatPromptTemplate.from_template()``` is simpler and takes only the user input. \n",
    "\n",
    "\n"
   ]
  },
  {
   "cell_type": "code",
   "execution_count": 5,
   "id": "6b9304b1",
   "metadata": {},
   "outputs": [],
   "source": [
    "# 1. Create a prompt template \n",
    "prompt = ChatPromptTemplate.from_messages([\n",
    "    (\"system\", \"You are a world class travel writer.\"),\n",
    "    (\"user\", \"{input}\")\n",
    "])"
   ]
  },
  {
   "cell_type": "code",
   "execution_count": 6,
   "id": "564a3509",
   "metadata": {},
   "outputs": [],
   "source": [
    "# 2. Specify your chain \n",
    "chain = prompt | llm "
   ]
  },
  {
   "cell_type": "code",
   "execution_count": 7,
   "id": "c29557ad",
   "metadata": {},
   "outputs": [
    {
     "name": "stdout",
     "output_type": "stream",
     "text": [
      "content=\"Two iconic tourist spots that attract millions of visitors from around the globe are the Eiffel Tower in Paris, France, and the Grand Canyon in the United States.\\n\\n1. **Eiffel Tower, Paris, France**: An enduring symbol of France and one of the most recognized structures in the world, the Eiffel Tower was originally built as a temporary exhibit for the 1889 World's Fair. Gustave Eiffel, the engineer behind its construction, could hardly have imagined that his tower would become the foremost symbol of Parisian romance and ambition. Standing at 324 meters tall, it offers breathtaking views over Paris and has three levels accessible to the public, with restaurants on the first and second levels and an observation deck at the top.\\n\\n2. **Grand Canyon, Arizona, United States**: Carved by the Colorado River over millions of years, the Grand Canyon is a testament to the power of nature and time. It stretches over 277 miles (446 kilometers) long, up to 18 miles (29 kilometers) wide, and over a mile (1,857 meters) deep, making it one of the most significant natural wonders of the world. The Grand Canyon National Park is a UNESCO World Heritage site and offers a plethora of outdoor activities, including hiking, rafting, and helicopter tours, providing visitors with awe-inspiring vistas of its multicolored rock layers and dramatic cliffs.\" response_metadata={'token_usage': {'completion_tokens': 282, 'prompt_tokens': 27, 'total_tokens': 309}, 'model_name': 'gpt-4-0125-preview', 'system_fingerprint': 'fp_a7daf7c51e', 'finish_reason': 'stop', 'logprobs': None}\n"
     ]
    }
   ],
   "source": [
    "# 3. Finally you can invoke your chain with a prompt of your choice (this will call your Chat Model!)\n",
    "resp= chain.invoke({\"input\": \"Where are 2 famous tourist spots?\"})\n",
    "print(resp)"
   ]
  },
  {
   "cell_type": "markdown",
   "id": "8a14779c",
   "metadata": {},
   "source": [
    "<a id='act-2'></a>\n",
    "### Try it!\n",
    "- Edit the above code to change the system persona from \n",
    "    ```\"You are a world class travel writer.\"```  to ```\"You are a helpful assistant.\"```\n",
    "- Compare the responses from ChatGPT. What changed? "
   ]
  },
  {
   "cell_type": "code",
   "execution_count": 8,
   "id": "92e93c22",
   "metadata": {},
   "outputs": [],
   "source": [
    "# 1. Create a prompt template \n",
    "# Edit this step! \n",
    "prompt = ChatPromptTemplate.from_messages([\n",
    "    (\"system\", \"You are a helpful assistant.\"),\n",
    "    (\"user\", \"{input}\")\n",
    "])\n"
   ]
  },
  {
   "cell_type": "code",
   "execution_count": 9,
   "id": "2c8ba396",
   "metadata": {},
   "outputs": [],
   "source": [
    "# 2. Specify your chain \n",
    "chain = prompt | llm "
   ]
  },
  {
   "cell_type": "code",
   "execution_count": 10,
   "id": "2b51f3fd",
   "metadata": {},
   "outputs": [
    {
     "name": "stdout",
     "output_type": "stream",
     "text": [
      "content=\"There are countless famous tourist spots around the world, but two particularly notable ones are:\\n\\n1. **Eiffel Tower, Paris, France** - An iconic symbol of France, the Eiffel Tower is a must-visit for anyone traveling to Paris. Constructed in 1889 as the entrance arch for the 1889 World's Fair, it has since become one of the most recognizable structures in the world. Visitors can dine in its restaurants or ascend its levels for panoramic views of Paris.\\n\\n2. **Grand Canyon, Arizona, USA** - Known for its overwhelming size and its intricate and colorful landscape, the Grand Canyon offers some of the most spectacular vistas on Earth. It is a significant natural phenomenon formed by the Colorado River cutting a deep gorge over millions of years. Visitors can hike, take helicopter tours, or simply enjoy the views from various lookout points.\" response_metadata={'token_usage': {'completion_tokens': 175, 'prompt_tokens': 25, 'total_tokens': 200}, 'model_name': 'gpt-4-0125-preview', 'system_fingerprint': 'fp_8cc6edbbd5', 'finish_reason': 'stop', 'logprobs': None}\n"
     ]
    }
   ],
   "source": [
    "# 3. Finally you can invoke your chain with a prompt of your choice (this will call your Chat Model!)\n",
    "resp= chain.invoke({\"input\": \"Where are 2 famous tourist spots?\"})\n",
    "print(resp)"
   ]
  },
  {
   "cell_type": "markdown",
   "id": "e255b81c",
   "metadata": {},
   "source": [
    "<a id='prompt-templates'></a>\n",
    "## Prompt Templates \n",
    "As we saw above, prompt templates can be helpful for defining system personas and pasing in prompts to ChatGPT. You can add a lot more flexiblity to these tempates by passing variables in to the template. Earlier we used a single variable ```{input}```.  Let's see an example with multiple varibales. \n",
    "\n",
    "Note: here we will use the simpler ```ChatPromptTemplate.from_template()``` to focus on our variables, but you can also use this technique with ```ChatPromptTemplate.from_messages```\n",
    "#### Review the code below. \n",
    "```python \n",
    "    prompt_temp = ChatPromptTemplate.from_template(\n",
    "    \"Tell me a {adjective} joke about {content}.\")\n",
    "    \n",
    "    prompt_temp.format(adjective=\"funny\", content=\"dog\")\n",
    "```\n",
    "\n",
    "#### Note: \n",
    "Prompts are almost always passed as strings. It may be helpful to review [Python String formatting](https://realpython.com/python-string-formatting/#2-new-style-string-formatting-strformat) and [String Interpolation / f-Strings](https://realpython.com/python-string-formatting/#3-string-interpolation-f-strings-python-36) to help you automate your prompts. \n",
    "\n",
    "#### Reference: \n",
    "Prompts below inspired by [LangChain Docs](https://python.langchain.com/docs/expression_language/cookbook/prompt_llm_parser)"
   ]
  },
  {
   "cell_type": "code",
   "execution_count": 11,
   "id": "0e1727d3",
   "metadata": {},
   "outputs": [],
   "source": [
    "# create your template\n",
    "prompt_temp = ChatPromptTemplate.from_template(\n",
    "    \"Tell me a {adjective} joke about {content}.\")"
   ]
  },
  {
   "cell_type": "code",
   "execution_count": 12,
   "id": "5b519569",
   "metadata": {},
   "outputs": [],
   "source": [
    "# defne your chain \n",
    "chain2 = prompt_temp | llm "
   ]
  },
  {
   "cell_type": "code",
   "execution_count": 13,
   "id": "d45ae7ed",
   "metadata": {},
   "outputs": [
    {
     "name": "stdout",
     "output_type": "stream",
     "text": [
      "content=\"Why did the dog sit in the shade?\\n\\nBecause he didn't want to be a hot dog!\" response_metadata={'token_usage': {'completion_tokens': 20, 'prompt_tokens': 15, 'total_tokens': 35}, 'model_name': 'gpt-4-0125-preview', 'system_fingerprint': 'fp_a7daf7c51e', 'finish_reason': 'stop', 'logprobs': None}\n"
     ]
    }
   ],
   "source": [
    "# call your model with your joke preferences \n",
    "\n",
    "resp= chain2.invoke({\"adjective\": \"funny\", \"content\": \"dog\"})\n",
    "print(resp)"
   ]
  },
  {
   "cell_type": "markdown",
   "id": "595c7915",
   "metadata": {},
   "source": [
    "<a id='act-3'></a>\n",
    "### Try it! \n",
    "Output 3 new jokes on the topics of your choice! \n",
    "\n",
    "Edit the following for new outputs: \n",
    "```python \n",
    "resp= chain2.invoke({\"adjective\": \"your adjective\", \"content\": \"your topic\"})\n",
    "resp \n",
    "```"
   ]
  },
  {
   "cell_type": "code",
   "execution_count": 14,
   "id": "cd21c984",
   "metadata": {},
   "outputs": [
    {
     "name": "stdout",
     "output_type": "stream",
     "text": [
      "content='Why did the cat join the Red Cross?\\n\\nBecause it wanted to be a first-aid kit!' response_metadata={'token_usage': {'completion_tokens': 20, 'prompt_tokens': 15, 'total_tokens': 35}, 'model_name': 'gpt-4-0125-preview', 'system_fingerprint': 'fp_8cc6edbbd5', 'finish_reason': 'stop', 'logprobs': None}\n"
     ]
    }
   ],
   "source": [
    "#1 Joke 1 \n",
    "resp= chain2.invoke({\"adjective\": \"silly\", \"content\": \"cats\"})\n",
    "print(resp) "
   ]
  },
  {
   "cell_type": "code",
   "execution_count": 15,
   "id": "b663fc12",
   "metadata": {},
   "outputs": [
    {
     "name": "stdout",
     "output_type": "stream",
     "text": [
      "content='Why do Python programmers prefer using snakes at the beach?\\n\\nBecause they come with their own scales to measure the length of the python! 🐍😄' response_metadata={'token_usage': {'completion_tokens': 31, 'prompt_tokens': 16, 'total_tokens': 47}, 'model_name': 'gpt-4-0125-preview', 'system_fingerprint': 'fp_a7daf7c51e', 'finish_reason': 'stop', 'logprobs': None}\n"
     ]
    }
   ],
   "source": [
    "#2 Joke 2\n",
    "resp= chain2.invoke({\"adjective\": \"childish\", \"content\": \"python programming\"})\n",
    "print(resp)"
   ]
  },
  {
   "cell_type": "code",
   "execution_count": 16,
   "id": "6a6c82bb",
   "metadata": {},
   "outputs": [
    {
     "name": "stdout",
     "output_type": "stream",
     "text": [
      "content='Why did the chicken cross the road?\\n\\nTo get to the other side!' response_metadata={'token_usage': {'completion_tokens': 15, 'prompt_tokens': 15, 'total_tokens': 30}, 'model_name': 'gpt-4-0125-preview', 'system_fingerprint': 'fp_a7daf7c51e', 'finish_reason': 'stop', 'logprobs': None}\n"
     ]
    }
   ],
   "source": [
    "#3 Joke 3\n",
    "resp= chain2.invoke({\"adjective\": \"classic\", \"content\": \"chicken\"})\n",
    "print(resp)"
   ]
  },
  {
   "cell_type": "markdown",
   "id": "6fd5e199",
   "metadata": {},
   "source": [
    "<a id='chains'></a>\n",
    "## Chains with outputs\n",
    "\n",
    "The most common chain includes a model, a prompt template, and output parser. \n",
    "\n",
    "**Output parsers** are a way to format the response you get from the language model. \n",
    "\n",
    "#### Common Output Options:\n",
    "\n",
    "1. ``` StrOutputParser ``` formats messages as strings  \n",
    "1. ```Agent Parsers``` more to come on this in agent module \n",
    "\n",
    "\n",
    "#### New Steps\n",
    "1. Specify an output parser\n",
    "    ```python \n",
    "        output_parser = StrOutputParser()\n",
    "    ```\n",
    "2. Add your output parser to your chain\n",
    "    ```python \n",
    "        chain = prompt | llm | output_parser\n",
    "    ```\n",
    "\n",
    "Let's add this to our joke chain. Already have our prompt template and model set. Let's specify the output parser and add it to our chain. "
   ]
  },
  {
   "cell_type": "code",
   "execution_count": 17,
   "id": "426f9fe1",
   "metadata": {},
   "outputs": [],
   "source": [
    "#1.  Specify an output parser\n",
    "output_parser = StrOutputParser()"
   ]
  },
  {
   "cell_type": "code",
   "execution_count": 18,
   "id": "0764b533",
   "metadata": {},
   "outputs": [],
   "source": [
    "#2. Add your output parser to your chain\n",
    "chain3 = prompt_temp | llm | output_parser"
   ]
  },
  {
   "cell_type": "code",
   "execution_count": 19,
   "id": "5bcd11af",
   "metadata": {},
   "outputs": [
    {
     "name": "stdout",
     "output_type": "stream",
     "text": [
      "Sure, here's a dog joke for you:\n",
      "\n",
      "Why did the dog sit in the shade?\n",
      "\n",
      "Because he didn't want to be a hot dog!\n"
     ]
    }
   ],
   "source": [
    "#3. Invoke our model and observe the change in the output \n",
    "resp= chain3.invoke({\"adjective\": \"funny\", \"content\": \"dog\"})\n",
    "print(resp)"
   ]
  },
  {
   "cell_type": "markdown",
   "id": "d071a68a",
   "metadata": {},
   "source": [
    "<a id='lcel'></a>\n",
    "##  LangChain Expression Language (LCEL)\n",
    "LCEL- allows you build complex chains with runnable components greatly reducing the amount of code you need to write for common model tasks. They come with common methods or interfaces that you can use in many situations. So far we have used invoke. Here are a few others you may encounter! \n",
    "\n",
    "#### Interface\n",
    "- Invoke (invoke)- pass in a string and get back a string\n",
    "- Stream (stream)- streams the response \n",
    "- Batch (batch)- pass in multiple prompts and get back the response \n",
    "- Async (ainvoke) - run asynchronously \n",
    "\n",
    "#### Docs\n",
    "1. [LangChain LCEL](https://python.langchain.com/docs/expression_language/)\n",
    "1. [LangChain Interface](https://python.langchain.com/docs/expression_language/interface)\n"
   ]
  },
  {
   "cell_type": "markdown",
   "id": "e71515d2",
   "metadata": {},
   "source": [
    "<a id='lab'></a>\n",
    "# Lab\n",
    "#### Objective: \n",
    "Your goal is to create a chain that take a number (n) and destination and outputs the top n attractions in your destination of choice. \n",
    "\n",
    "#### Steps\n",
    "1. Create a prompt template (```ChatPromptTemplate.from_template()```) that takes the following prompt from the user: \n",
    "    ```python \n",
    "     (\"user\", \"List the top {number} attractions in {destination}\") #input with 2 variables  \n",
    "  \n",
    "   ```\n",
    "1. Specify your language model (ok to use the same as before) \n",
    "2. Specify you output parser (ok to use the same as before) \n",
    "1. Build a chain with your prompt template, language model, and output parser \n",
    "1. Invoke your model at least 3 times for different locations and number of attractions "
   ]
  },
  {
   "cell_type": "code",
   "execution_count": 20,
   "id": "1068fe0e",
   "metadata": {},
   "outputs": [],
   "source": [
    "#1. Create prompt template \n",
    "template = ChatPromptTemplate.from_template(\n",
    " \"List the top {number} attractions in {destination}\"\n",
    ")"
   ]
  },
  {
   "cell_type": "code",
   "execution_count": 22,
   "id": "d2fa592d",
   "metadata": {},
   "outputs": [],
   "source": [
    "#2. Specify language model (Chat GPT here)\n",
    "model = ChatOpenAI(openai_api_key=\"...\", \n",
    "                 temperature=.5, model_name=\"gpt-4-0125-preview\")"
   ]
  },
  {
   "cell_type": "code",
   "execution_count": 23,
   "id": "31007990",
   "metadata": {},
   "outputs": [],
   "source": [
    "#3. Set your output parser \n",
    "output = StrOutputParser()"
   ]
  },
  {
   "cell_type": "code",
   "execution_count": 24,
   "id": "cb49efad",
   "metadata": {},
   "outputs": [],
   "source": [
    "#4. Build your chain \n",
    "my_chain = template | model | output"
   ]
  },
  {
   "cell_type": "code",
   "execution_count": 25,
   "id": "70702b8f",
   "metadata": {},
   "outputs": [
    {
     "name": "stdout",
     "output_type": "stream",
     "text": [
      "New York City is packed with iconic attractions, making it challenging to narrow down to just two. However, two of the most universally recognized and visited landmarks are:\n",
      "\n",
      "1. **Statue of Liberty**: A gift from France to the United States, the Statue of Liberty stands on Liberty Island in New York Harbor. It has become an enduring symbol of freedom and democracy, recognized worldwide. Visitors can take a ferry to the island, explore the museum, and for those who book in advance, access the pedestal or crown for unparalleled views of the city and harbor.\n",
      "\n",
      "2. **Central Park**: This vast green space in the heart of Manhattan offers a peaceful escape from the city's hustle and bustle. Central Park is not only a place for relaxation and recreation but also hosts various attractions within its boundaries, including the Central Park Zoo, The Mall, Bethesda Terrace, and more. It's a favored spot for both tourists and locals, offering a picturesque setting that changes beautifully with the seasons.\n"
     ]
    }
   ],
   "source": [
    "#invoke chain- 1 \n",
    "resp = my_chain.invoke({\"number\": \"2\", \"destination\": \"New York\"})\n",
    "print(resp)"
   ]
  },
  {
   "cell_type": "code",
   "execution_count": 26,
   "id": "8453c847",
   "metadata": {},
   "outputs": [
    {
     "name": "stdout",
     "output_type": "stream",
     "text": [
      "Rome, with its rich history and vibrant culture, is home to countless attractions. However, the top 3 must-see attractions in Rome are generally considered to be:\n",
      "\n",
      "1. **The Colosseum** - Also known as the Flavian Amphitheatre, the Colosseum is an iconic symbol of ancient Roman engineering and architecture. It was the largest amphitheater ever built at the time and hosted gladiatorial contests, public spectacles, and various other events. Its impressive ruins still stand today, offering a glimpse into the past and the grandeur of the Roman Empire.\n",
      "\n",
      "2. **The Vatican City** - Although technically an independent city-state enclaved within Rome, the Vatican is a pivotal attraction for visitors. It is the spiritual and administrative center of the Roman Catholic Church and the residence of the Pope. The Vatican Museums and the Sistine Chapel, with Michelangelo's famous ceiling and 'The Last Judgment', are among the most visited sites. St. Peter's Basilica, with its magnificent dome designed by Michelangelo, stands as a masterpiece of Renaissance architecture.\n",
      "\n",
      "3. **The Pantheon** - This ancient Roman temple, now a church, is renowned for its remarkable preservation and stunning architecture. It was built between A.D. 118 and 125 by Emperor Hadrian and is famous for its massive dome, which remains the world's largest unreinforced concrete dome. The Pantheon's oculus, the opening at the dome's apex, offers a unique connection between the building's interior and the outside world.\n",
      "\n",
      "These attractions are just the tip of the iceberg in Rome, a city filled with history at every turn, from the Roman Forum to the Trevi Fountain, Spanish Steps, and beyond. Each site offers a unique insight into the rich tapestry of Rome's history, culture, and art.\n"
     ]
    }
   ],
   "source": [
    "#invoke chain- 2 \n",
    "resp = my_chain.invoke({\"number\": \"3\", \"destination\": \"Rome\"})\n",
    "print(resp)"
   ]
  },
  {
   "cell_type": "code",
   "execution_count": 27,
   "id": "5c21edbf",
   "metadata": {},
   "outputs": [
    {
     "name": "stdout",
     "output_type": "stream",
     "text": [
      "As of my last update in April 2023, one of the top attractions in Tokyo, Japan, is the Tokyo Skytree. Standing at a height of 634 meters, it is the tallest structure in Japan and the second tallest structure in the world at the time of its completion. The Tokyo Skytree serves as a television broadcasting tower and a popular tourist destination, offering panoramic views of the city from its observation decks. It also features a shopping mall, aquarium, and various restaurants, making it a comprehensive entertainment complex.\n"
     ]
    }
   ],
   "source": [
    "#invoke chain- 3\n",
    "resp = my_chain.invoke({\"number\": \"1\", \"destination\": \"Tokoyo\"})\n",
    "print(resp)"
   ]
  },
  {
   "cell_type": "code",
   "execution_count": null,
   "id": "82bdbc4d",
   "metadata": {},
   "outputs": [],
   "source": []
  }
 ],
 "metadata": {
  "kernelspec": {
   "display_name": "Python 3 (ipykernel)",
   "language": "python",
   "name": "python3"
  },
  "language_info": {
   "codemirror_mode": {
    "name": "ipython",
    "version": 3
   },
   "file_extension": ".py",
   "mimetype": "text/x-python",
   "name": "python",
   "nbconvert_exporter": "python",
   "pygments_lexer": "ipython3",
   "version": "3.10.14"
  }
 },
 "nbformat": 4,
 "nbformat_minor": 5
}
